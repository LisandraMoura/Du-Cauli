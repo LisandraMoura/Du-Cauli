{
 "cells": [
  {
   "cell_type": "code",
   "execution_count": null,
   "metadata": {},
   "outputs": [],
   "source": [
    "from pydub import AudioSegment\n",
    "from pydub.playback import play\n",
    "\n",
    "# Carregar o arquivo .m4a\n",
    "audio = AudioSegment.from_file(\"seu_arquivo.m4a\", format=\"m4a\")\n",
    "\n",
    "# Reproduzir o áudio\n",
    "play(audio)\n"
   ]
  },
  {
   "cell_type": "code",
   "execution_count": null,
   "metadata": {},
   "outputs": [],
   "source": [
    "import openai\n",
    "from dotenv import load_dotenv\n",
    "import os\n",
    "\n",
    "# Carregar a chave de API do arquivo .env\n",
    "load_dotenv()\n",
    "openai.api_key = os.getenv(\"OPENAI_API_KEY\")\n",
    "\n",
    "# Caminho para o arquivo de áudio\n",
    "caminho_audio = \"seu_arquivo.m4a\"\n",
    "\n",
    "# Abrir o arquivo de áudio\n",
    "with open(caminho_audio, \"rb\") as audio_file:\n",
    "    # Realizar a transcrição utilizando a API da OpenAI\n",
    "    transcricao = openai.Audio.transcribe(\n",
    "        model=\"whisper-1\",\n",
    "        file=audio_file\n",
    "    )\n",
    "\n",
    "# Exibir a transcrição\n",
    "print(transcricao[\"text\"])\n"
   ]
  },
  {
   "cell_type": "code",
   "execution_count": null,
   "metadata": {},
   "outputs": [],
   "source": [
    "transcricao_texto = transcricao[\"text\"]\n"
   ]
  },
  {
   "cell_type": "code",
   "execution_count": null,
   "metadata": {},
   "outputs": [],
   "source": [
    "import pandas as pd\n",
    "import re\n",
    "\n",
    "# Expressão regular para capturar os valores\n",
    "padrao = r\"ID (\\d+).*?lote (\\d+).*?altura ([\\d,]+).*?diâmetro ([\\d,]+)\"\n",
    "\n",
    "# Encontrar todos os correspondentes no texto\n",
    "dados = re.findall(padrao, transcricao_texto)\n",
    "\n",
    "# Substituir vírgulas por pontos para números decimais\n",
    "dados_corrigidos = [(id_, lote, altura.replace(',', '.'), diametro.replace(',', '.')) for id_, lote, altura, diametro in dados]\n",
    "\n",
    "# Criar o DataFrame\n",
    "df = pd.DataFrame(dados_corrigidos, columns=[\"ID\", \"LOTE\", \"ALTURA\", \"DIAMETRO\"])\n",
    "\n",
    "# Salvar o DataFrame em um arquivo Excel\n",
    "arquivo = \"dados_transcritos.csv\"\n",
    "df.to_csv(arquivo, index=False)\n",
    "\n",
    "print(f\"Planilha salva como {arquivo}\")\n"
   ]
  }
 ],
 "metadata": {
  "kernelspec": {
   "display_name": "basic",
   "language": "python",
   "name": "python3"
  },
  "language_info": {
   "name": "python",
   "version": "3.9.18"
  }
 },
 "nbformat": 4,
 "nbformat_minor": 2
}
