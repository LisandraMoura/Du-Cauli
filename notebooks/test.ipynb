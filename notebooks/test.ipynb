{
 "cells": [
  {
   "cell_type": "code",
   "execution_count": 2,
   "metadata": {},
   "outputs": [
    {
     "name": "stdout",
     "output_type": "stream",
     "text": [
      "Arquivo WAV gerado: audio.wav\n"
     ]
    }
   ],
   "source": [
    "import wave\n",
    "\n",
    "# Nome do arquivo binário gerado pelo ESP32\n",
    "input_file = \"/home/lisamenezes/Searches/Du-Cauli/audio\"\n",
    "# Nome do arquivo WAV de saída\n",
    "output_file = \"audio.wav\"\n",
    "\n",
    "# Configurações do áudio (devem coincidir com o ESP32)\n",
    "num_channels = 1  # Mono\n",
    "sampwidth = 1  # 8 bits por amostra\n",
    "framerate = 8000  # Taxa de amostragem 8kHz\n",
    "\n",
    "# Lê o arquivo binário\n",
    "with open(input_file, \"rb\") as bin_file:\n",
    "    raw_data = bin_file.read()\n",
    "\n",
    "# Cria um arquivo WAV e escreve os dados\n",
    "with wave.open(output_file, 'wb') as wav_file:\n",
    "    wav_file.setnchannels(num_channels)\n",
    "    wav_file.setsampwidth(sampwidth)\n",
    "    wav_file.setframerate(framerate)\n",
    "    wav_file.writeframes(raw_data)\n",
    "\n",
    "print(f\"Arquivo WAV gerado: {output_file}\")\n"
   ]
  },
  {
   "cell_type": "code",
   "execution_count": 3,
   "metadata": {},
   "outputs": [
    {
     "ename": "CouldntDecodeError",
     "evalue": "Decoding failed. ffmpeg returned error code: 1\n\nOutput from ffmpeg/avlib:\n\nffmpeg version 4.4.2-0ubuntu0.22.04.1 Copyright (c) 2000-2021 the FFmpeg developers\n  built with gcc 11 (Ubuntu 11.2.0-19ubuntu1)\n  configuration: --prefix=/usr --extra-version=0ubuntu0.22.04.1 --toolchain=hardened --libdir=/usr/lib/x86_64-linux-gnu --incdir=/usr/include/x86_64-linux-gnu --arch=amd64 --enable-gpl --disable-stripping --enable-gnutls --enable-ladspa --enable-libaom --enable-libass --enable-libbluray --enable-libbs2b --enable-libcaca --enable-libcdio --enable-libcodec2 --enable-libdav1d --enable-libflite --enable-libfontconfig --enable-libfreetype --enable-libfribidi --enable-libgme --enable-libgsm --enable-libjack --enable-libmp3lame --enable-libmysofa --enable-libopenjpeg --enable-libopenmpt --enable-libopus --enable-libpulse --enable-librabbitmq --enable-librubberband --enable-libshine --enable-libsnappy --enable-libsoxr --enable-libspeex --enable-libsrt --enable-libssh --enable-libtheora --enable-libtwolame --enable-libvidstab --enable-libvorbis --enable-libvpx --enable-libwebp --enable-libx265 --enable-libxml2 --enable-libxvid --enable-libzimg --enable-libzmq --enable-libzvbi --enable-lv2 --enable-omx --enable-openal --enable-opencl --enable-opengl --enable-sdl2 --enable-pocketsphinx --enable-librsvg --enable-libmfx --enable-libdc1394 --enable-libdrm --enable-libiec61883 --enable-chromaprint --enable-frei0r --enable-libx264 --enable-shared\n  WARNING: library configuration mismatch\n  avutil      configuration: --arch=x86_64 --enable-libaom --enable-libsvtav1 --enable-libtheora --enable-libmp3lame --enable-pthreads --extra-libs='-lpthread -lm' --cc=clang --cxx=clang++ --host-cc=clang --prefix=/home/runner/work/obs-deps/obs-deps/linux-x86_64/obs-ffmpeg-x86_64 --host-cflags=-I/home/runner/work/obs-deps/obs-deps/linux-x86_64/obs-ffmpeg-x86_64/include --host-ldflags=-I/home/runner/work/obs-deps/obs-deps/linux-x86_64/obs-ffmpeg-x86_64/include --extra-cflags='-I/home/runner/work/obs-deps/obs-deps/linux-x86_64/obs-ffmpeg-x86_64/include -w -pipe -fPIC -O3 -DNDEBUG' --extra-cxxflags='-I/home/runner/work/obs-deps/obs-deps/linux-x86_64/obs-ffmpeg-x86_64/include -w -pipe -fPIC -O3 -DNDEBUG' --extra-ldflags=-L/home/runner/work/obs-deps/obs-deps/linux-x86_64/obs-ffmpeg-x86_64/lib --enable-version3 --enable-gpl --enable-libx264 --enable-libopus --enable-libvorbis --enable-libvpx --enable-librist --enable-libsrt --enable-shared --disable-static --disable-libjack --disable-indev=jack --disable-outdev=sdl --disable-doc --disable-postproc --pkg-config-flags=--static\n  avcodec     configuration: --arch=x86_64 --enable-libaom --enable-libsvtav1 --enable-libtheora --enable-libmp3lame --enable-pthreads --extra-libs='-lpthread -lm' --cc=clang --cxx=clang++ --host-cc=clang --prefix=/home/runner/work/obs-deps/obs-deps/linux-x86_64/obs-ffmpeg-x86_64 --host-cflags=-I/home/runner/work/obs-deps/obs-deps/linux-x86_64/obs-ffmpeg-x86_64/include --host-ldflags=-I/home/runner/work/obs-deps/obs-deps/linux-x86_64/obs-ffmpeg-x86_64/include --extra-cflags='-I/home/runner/work/obs-deps/obs-deps/linux-x86_64/obs-ffmpeg-x86_64/include -w -pipe -fPIC -O3 -DNDEBUG' --extra-cxxflags='-I/home/runner/work/obs-deps/obs-deps/linux-x86_64/obs-ffmpeg-x86_64/include -w -pipe -fPIC -O3 -DNDEBUG' --extra-ldflags=-L/home/runner/work/obs-deps/obs-deps/linux-x86_64/obs-ffmpeg-x86_64/lib --enable-version3 --enable-gpl --enable-libx264 --enable-libopus --enable-libvorbis --enable-libvpx --enable-librist --enable-libsrt --enable-shared --disable-static --disable-libjack --disable-indev=jack --disable-outdev=sdl --disable-doc --disable-postproc --pkg-config-flags=--static\n  avformat    configuration: --arch=x86_64 --enable-libaom --enable-libsvtav1 --enable-libtheora --enable-libmp3lame --enable-pthreads --extra-libs='-lpthread -lm' --cc=clang --cxx=clang++ --host-cc=clang --prefix=/home/runner/work/obs-deps/obs-deps/linux-x86_64/obs-ffmpeg-x86_64 --host-cflags=-I/home/runner/work/obs-deps/obs-deps/linux-x86_64/obs-ffmpeg-x86_64/include --host-ldflags=-I/home/runner/work/obs-deps/obs-deps/linux-x86_64/obs-ffmpeg-x86_64/include --extra-cflags='-I/home/runner/work/obs-deps/obs-deps/linux-x86_64/obs-ffmpeg-x86_64/include -w -pipe -fPIC -O3 -DNDEBUG' --extra-cxxflags='-I/home/runner/work/obs-deps/obs-deps/linux-x86_64/obs-ffmpeg-x86_64/include -w -pipe -fPIC -O3 -DNDEBUG' --extra-ldflags=-L/home/runner/work/obs-deps/obs-deps/linux-x86_64/obs-ffmpeg-x86_64/lib --enable-version3 --enable-gpl --enable-libx264 --enable-libopus --enable-libvorbis --enable-libvpx --enable-librist --enable-libsrt --enable-shared --disable-static --disable-libjack --disable-indev=jack --disable-outdev=sdl --disable-doc --disable-postproc --pkg-config-flags=--static\n  avdevice    configuration: --arch=x86_64 --enable-libaom --enable-libsvtav1 --enable-libtheora --enable-libmp3lame --enable-pthreads --extra-libs='-lpthread -lm' --cc=clang --cxx=clang++ --host-cc=clang --prefix=/home/runner/work/obs-deps/obs-deps/linux-x86_64/obs-ffmpeg-x86_64 --host-cflags=-I/home/runner/work/obs-deps/obs-deps/linux-x86_64/obs-ffmpeg-x86_64/include --host-ldflags=-I/home/runner/work/obs-deps/obs-deps/linux-x86_64/obs-ffmpeg-x86_64/include --extra-cflags='-I/home/runner/work/obs-deps/obs-deps/linux-x86_64/obs-ffmpeg-x86_64/include -w -pipe -fPIC -O3 -DNDEBUG' --extra-cxxflags='-I/home/runner/work/obs-deps/obs-deps/linux-x86_64/obs-ffmpeg-x86_64/include -w -pipe -fPIC -O3 -DNDEBUG' --extra-ldflags=-L/home/runner/work/obs-deps/obs-deps/linux-x86_64/obs-ffmpeg-x86_64/lib --enable-version3 --enable-gpl --enable-libx264 --enable-libopus --enable-libvorbis --enable-libvpx --enable-librist --enable-libsrt --enable-shared --disable-static --disable-libjack --disable-indev=jack --disable-outdev=sdl --disable-doc --disable-postproc --pkg-config-flags=--static\n  avfilter    configuration: --arch=x86_64 --enable-libaom --enable-libsvtav1 --enable-libtheora --enable-libmp3lame --enable-pthreads --extra-libs='-lpthread -lm' --cc=clang --cxx=clang++ --host-cc=clang --prefix=/home/runner/work/obs-deps/obs-deps/linux-x86_64/obs-ffmpeg-x86_64 --host-cflags=-I/home/runner/work/obs-deps/obs-deps/linux-x86_64/obs-ffmpeg-x86_64/include --host-ldflags=-I/home/runner/work/obs-deps/obs-deps/linux-x86_64/obs-ffmpeg-x86_64/include --extra-cflags='-I/home/runner/work/obs-deps/obs-deps/linux-x86_64/obs-ffmpeg-x86_64/include -w -pipe -fPIC -O3 -DNDEBUG' --extra-cxxflags='-I/home/runner/work/obs-deps/obs-deps/linux-x86_64/obs-ffmpeg-x86_64/include -w -pipe -fPIC -O3 -DNDEBUG' --extra-ldflags=-L/home/runner/work/obs-deps/obs-deps/linux-x86_64/obs-ffmpeg-x86_64/lib --enable-version3 --enable-gpl --enable-libx264 --enable-libopus --enable-libvorbis --enable-libvpx --enable-librist --enable-libsrt --enable-shared --disable-static --disable-libjack --disable-indev=jack --disable-outdev=sdl --disable-doc --disable-postproc --pkg-config-flags=--static\n  swscale     configuration: --arch=x86_64 --enable-libaom --enable-libsvtav1 --enable-libtheora --enable-libmp3lame --enable-pthreads --extra-libs='-lpthread -lm' --cc=clang --cxx=clang++ --host-cc=clang --prefix=/home/runner/work/obs-deps/obs-deps/linux-x86_64/obs-ffmpeg-x86_64 --host-cflags=-I/home/runner/work/obs-deps/obs-deps/linux-x86_64/obs-ffmpeg-x86_64/include --host-ldflags=-I/home/runner/work/obs-deps/obs-deps/linux-x86_64/obs-ffmpeg-x86_64/include --extra-cflags='-I/home/runner/work/obs-deps/obs-deps/linux-x86_64/obs-ffmpeg-x86_64/include -w -pipe -fPIC -O3 -DNDEBUG' --extra-cxxflags='-I/home/runner/work/obs-deps/obs-deps/linux-x86_64/obs-ffmpeg-x86_64/include -w -pipe -fPIC -O3 -DNDEBUG' --extra-ldflags=-L/home/runner/work/obs-deps/obs-deps/linux-x86_64/obs-ffmpeg-x86_64/lib --enable-version3 --enable-gpl --enable-libx264 --enable-libopus --enable-libvorbis --enable-libvpx --enable-librist --enable-libsrt --enable-shared --disable-static --disable-libjack --disable-indev=jack --disable-outdev=sdl --disable-doc --disable-postproc --pkg-config-flags=--static\n  swresample  configuration: --arch=x86_64 --enable-libaom --enable-libsvtav1 --enable-libtheora --enable-libmp3lame --enable-pthreads --extra-libs='-lpthread -lm' --cc=clang --cxx=clang++ --host-cc=clang --prefix=/home/runner/work/obs-deps/obs-deps/linux-x86_64/obs-ffmpeg-x86_64 --host-cflags=-I/home/runner/work/obs-deps/obs-deps/linux-x86_64/obs-ffmpeg-x86_64/include --host-ldflags=-I/home/runner/work/obs-deps/obs-deps/linux-x86_64/obs-ffmpeg-x86_64/include --extra-cflags='-I/home/runner/work/obs-deps/obs-deps/linux-x86_64/obs-ffmpeg-x86_64/include -w -pipe -fPIC -O3 -DNDEBUG' --extra-cxxflags='-I/home/runner/work/obs-deps/obs-deps/linux-x86_64/obs-ffmpeg-x86_64/include -w -pipe -fPIC -O3 -DNDEBUG' --extra-ldflags=-L/home/runner/work/obs-deps/obs-deps/linux-x86_64/obs-ffmpeg-x86_64/lib --enable-version3 --enable-gpl --enable-libx264 --enable-libopus --enable-libvorbis --enable-libvpx --enable-librist --enable-libsrt --enable-shared --disable-static --disable-libjack --disable-indev=jack --disable-outdev=sdl --disable-doc --disable-postproc --pkg-config-flags=--static\n  libavutil      56. 70.100 / 56. 70.100\n  libavcodec     58.134.100 / 58.134.100\n  libavformat    58. 76.100 / 58. 76.100\n  libavdevice    58. 13.100 / 58. 13.100\n  libavfilter     7.110.100 /  7.110.100\n  libswscale      5.  9.100 /  5.  9.100\n  libswresample   3.  9.100 /  3.  9.100\n  libpostproc    55.  9.100 / 55.  9.100\n[wav @ 0x598c12c16800] invalid start code 7[6][0][0] in RIFF header\n/home/lisamenezes/Searches/Du-Cauli/audio.wav: Invalid data found when processing input\n",
     "output_type": "error",
     "traceback": [
      "\u001b[0;31m---------------------------------------------------------------------------\u001b[0m",
      "\u001b[0;31mCouldntDecodeError\u001b[0m                        Traceback (most recent call last)",
      "Cell \u001b[0;32mIn[3], line 5\u001b[0m\n\u001b[1;32m      2\u001b[0m \u001b[38;5;28;01mfrom\u001b[39;00m \u001b[38;5;21;01mpydub\u001b[39;00m\u001b[38;5;21;01m.\u001b[39;00m\u001b[38;5;21;01mplayback\u001b[39;00m \u001b[38;5;28;01mimport\u001b[39;00m play\n\u001b[1;32m      4\u001b[0m \u001b[38;5;66;03m# Carregar o arquivo .m4a\u001b[39;00m\n\u001b[0;32m----> 5\u001b[0m audio \u001b[38;5;241m=\u001b[39m \u001b[43mAudioSegment\u001b[49m\u001b[38;5;241;43m.\u001b[39;49m\u001b[43mfrom_file\u001b[49m\u001b[43m(\u001b[49m\u001b[38;5;124;43m\"\u001b[39;49m\u001b[38;5;124;43m/home/lisamenezes/Searches/Du-Cauli/audio.wav\u001b[39;49m\u001b[38;5;124;43m\"\u001b[39;49m\u001b[43m,\u001b[49m\u001b[43m \u001b[49m\u001b[38;5;28;43mformat\u001b[39;49m\u001b[38;5;241;43m=\u001b[39;49m\u001b[38;5;124;43m\"\u001b[39;49m\u001b[38;5;124;43mwav\u001b[39;49m\u001b[38;5;124;43m\"\u001b[39;49m\u001b[43m)\u001b[49m\n\u001b[1;32m      7\u001b[0m \u001b[38;5;66;03m# Reproduzir o áudio\u001b[39;00m\n\u001b[1;32m      8\u001b[0m play(audio)\n",
      "File \u001b[0;32m~/anaconda3/envs/basic/lib/python3.9/site-packages/pydub/audio_segment.py:773\u001b[0m, in \u001b[0;36mAudioSegment.from_file\u001b[0;34m(cls, file, format, codec, parameters, start_second, duration, **kwargs)\u001b[0m\n\u001b[1;32m    771\u001b[0m     \u001b[38;5;28;01mif\u001b[39;00m close_file:\n\u001b[1;32m    772\u001b[0m         file\u001b[38;5;241m.\u001b[39mclose()\n\u001b[0;32m--> 773\u001b[0m     \u001b[38;5;28;01mraise\u001b[39;00m CouldntDecodeError(\n\u001b[1;32m    774\u001b[0m         \u001b[38;5;124m\"\u001b[39m\u001b[38;5;124mDecoding failed. ffmpeg returned error code: \u001b[39m\u001b[38;5;132;01m{0}\u001b[39;00m\u001b[38;5;130;01m\\n\u001b[39;00m\u001b[38;5;130;01m\\n\u001b[39;00m\u001b[38;5;124mOutput from ffmpeg/avlib:\u001b[39m\u001b[38;5;130;01m\\n\u001b[39;00m\u001b[38;5;130;01m\\n\u001b[39;00m\u001b[38;5;132;01m{1}\u001b[39;00m\u001b[38;5;124m\"\u001b[39m\u001b[38;5;241m.\u001b[39mformat(\n\u001b[1;32m    775\u001b[0m             p\u001b[38;5;241m.\u001b[39mreturncode, p_err\u001b[38;5;241m.\u001b[39mdecode(errors\u001b[38;5;241m=\u001b[39m\u001b[38;5;124m'\u001b[39m\u001b[38;5;124mignore\u001b[39m\u001b[38;5;124m'\u001b[39m) ))\n\u001b[1;32m    777\u001b[0m p_out \u001b[38;5;241m=\u001b[39m \u001b[38;5;28mbytearray\u001b[39m(p_out)\n\u001b[1;32m    778\u001b[0m fix_wav_headers(p_out)\n",
      "\u001b[0;31mCouldntDecodeError\u001b[0m: Decoding failed. ffmpeg returned error code: 1\n\nOutput from ffmpeg/avlib:\n\nffmpeg version 4.4.2-0ubuntu0.22.04.1 Copyright (c) 2000-2021 the FFmpeg developers\n  built with gcc 11 (Ubuntu 11.2.0-19ubuntu1)\n  configuration: --prefix=/usr --extra-version=0ubuntu0.22.04.1 --toolchain=hardened --libdir=/usr/lib/x86_64-linux-gnu --incdir=/usr/include/x86_64-linux-gnu --arch=amd64 --enable-gpl --disable-stripping --enable-gnutls --enable-ladspa --enable-libaom --enable-libass --enable-libbluray --enable-libbs2b --enable-libcaca --enable-libcdio --enable-libcodec2 --enable-libdav1d --enable-libflite --enable-libfontconfig --enable-libfreetype --enable-libfribidi --enable-libgme --enable-libgsm --enable-libjack --enable-libmp3lame --enable-libmysofa --enable-libopenjpeg --enable-libopenmpt --enable-libopus --enable-libpulse --enable-librabbitmq --enable-librubberband --enable-libshine --enable-libsnappy --enable-libsoxr --enable-libspeex --enable-libsrt --enable-libssh --enable-libtheora --enable-libtwolame --enable-libvidstab --enable-libvorbis --enable-libvpx --enable-libwebp --enable-libx265 --enable-libxml2 --enable-libxvid --enable-libzimg --enable-libzmq --enable-libzvbi --enable-lv2 --enable-omx --enable-openal --enable-opencl --enable-opengl --enable-sdl2 --enable-pocketsphinx --enable-librsvg --enable-libmfx --enable-libdc1394 --enable-libdrm --enable-libiec61883 --enable-chromaprint --enable-frei0r --enable-libx264 --enable-shared\n  WARNING: library configuration mismatch\n  avutil      configuration: --arch=x86_64 --enable-libaom --enable-libsvtav1 --enable-libtheora --enable-libmp3lame --enable-pthreads --extra-libs='-lpthread -lm' --cc=clang --cxx=clang++ --host-cc=clang --prefix=/home/runner/work/obs-deps/obs-deps/linux-x86_64/obs-ffmpeg-x86_64 --host-cflags=-I/home/runner/work/obs-deps/obs-deps/linux-x86_64/obs-ffmpeg-x86_64/include --host-ldflags=-I/home/runner/work/obs-deps/obs-deps/linux-x86_64/obs-ffmpeg-x86_64/include --extra-cflags='-I/home/runner/work/obs-deps/obs-deps/linux-x86_64/obs-ffmpeg-x86_64/include -w -pipe -fPIC -O3 -DNDEBUG' --extra-cxxflags='-I/home/runner/work/obs-deps/obs-deps/linux-x86_64/obs-ffmpeg-x86_64/include -w -pipe -fPIC -O3 -DNDEBUG' --extra-ldflags=-L/home/runner/work/obs-deps/obs-deps/linux-x86_64/obs-ffmpeg-x86_64/lib --enable-version3 --enable-gpl --enable-libx264 --enable-libopus --enable-libvorbis --enable-libvpx --enable-librist --enable-libsrt --enable-shared --disable-static --disable-libjack --disable-indev=jack --disable-outdev=sdl --disable-doc --disable-postproc --pkg-config-flags=--static\n  avcodec     configuration: --arch=x86_64 --enable-libaom --enable-libsvtav1 --enable-libtheora --enable-libmp3lame --enable-pthreads --extra-libs='-lpthread -lm' --cc=clang --cxx=clang++ --host-cc=clang --prefix=/home/runner/work/obs-deps/obs-deps/linux-x86_64/obs-ffmpeg-x86_64 --host-cflags=-I/home/runner/work/obs-deps/obs-deps/linux-x86_64/obs-ffmpeg-x86_64/include --host-ldflags=-I/home/runner/work/obs-deps/obs-deps/linux-x86_64/obs-ffmpeg-x86_64/include --extra-cflags='-I/home/runner/work/obs-deps/obs-deps/linux-x86_64/obs-ffmpeg-x86_64/include -w -pipe -fPIC -O3 -DNDEBUG' --extra-cxxflags='-I/home/runner/work/obs-deps/obs-deps/linux-x86_64/obs-ffmpeg-x86_64/include -w -pipe -fPIC -O3 -DNDEBUG' --extra-ldflags=-L/home/runner/work/obs-deps/obs-deps/linux-x86_64/obs-ffmpeg-x86_64/lib --enable-version3 --enable-gpl --enable-libx264 --enable-libopus --enable-libvorbis --enable-libvpx --enable-librist --enable-libsrt --enable-shared --disable-static --disable-libjack --disable-indev=jack --disable-outdev=sdl --disable-doc --disable-postproc --pkg-config-flags=--static\n  avformat    configuration: --arch=x86_64 --enable-libaom --enable-libsvtav1 --enable-libtheora --enable-libmp3lame --enable-pthreads --extra-libs='-lpthread -lm' --cc=clang --cxx=clang++ --host-cc=clang --prefix=/home/runner/work/obs-deps/obs-deps/linux-x86_64/obs-ffmpeg-x86_64 --host-cflags=-I/home/runner/work/obs-deps/obs-deps/linux-x86_64/obs-ffmpeg-x86_64/include --host-ldflags=-I/home/runner/work/obs-deps/obs-deps/linux-x86_64/obs-ffmpeg-x86_64/include --extra-cflags='-I/home/runner/work/obs-deps/obs-deps/linux-x86_64/obs-ffmpeg-x86_64/include -w -pipe -fPIC -O3 -DNDEBUG' --extra-cxxflags='-I/home/runner/work/obs-deps/obs-deps/linux-x86_64/obs-ffmpeg-x86_64/include -w -pipe -fPIC -O3 -DNDEBUG' --extra-ldflags=-L/home/runner/work/obs-deps/obs-deps/linux-x86_64/obs-ffmpeg-x86_64/lib --enable-version3 --enable-gpl --enable-libx264 --enable-libopus --enable-libvorbis --enable-libvpx --enable-librist --enable-libsrt --enable-shared --disable-static --disable-libjack --disable-indev=jack --disable-outdev=sdl --disable-doc --disable-postproc --pkg-config-flags=--static\n  avdevice    configuration: --arch=x86_64 --enable-libaom --enable-libsvtav1 --enable-libtheora --enable-libmp3lame --enable-pthreads --extra-libs='-lpthread -lm' --cc=clang --cxx=clang++ --host-cc=clang --prefix=/home/runner/work/obs-deps/obs-deps/linux-x86_64/obs-ffmpeg-x86_64 --host-cflags=-I/home/runner/work/obs-deps/obs-deps/linux-x86_64/obs-ffmpeg-x86_64/include --host-ldflags=-I/home/runner/work/obs-deps/obs-deps/linux-x86_64/obs-ffmpeg-x86_64/include --extra-cflags='-I/home/runner/work/obs-deps/obs-deps/linux-x86_64/obs-ffmpeg-x86_64/include -w -pipe -fPIC -O3 -DNDEBUG' --extra-cxxflags='-I/home/runner/work/obs-deps/obs-deps/linux-x86_64/obs-ffmpeg-x86_64/include -w -pipe -fPIC -O3 -DNDEBUG' --extra-ldflags=-L/home/runner/work/obs-deps/obs-deps/linux-x86_64/obs-ffmpeg-x86_64/lib --enable-version3 --enable-gpl --enable-libx264 --enable-libopus --enable-libvorbis --enable-libvpx --enable-librist --enable-libsrt --enable-shared --disable-static --disable-libjack --disable-indev=jack --disable-outdev=sdl --disable-doc --disable-postproc --pkg-config-flags=--static\n  avfilter    configuration: --arch=x86_64 --enable-libaom --enable-libsvtav1 --enable-libtheora --enable-libmp3lame --enable-pthreads --extra-libs='-lpthread -lm' --cc=clang --cxx=clang++ --host-cc=clang --prefix=/home/runner/work/obs-deps/obs-deps/linux-x86_64/obs-ffmpeg-x86_64 --host-cflags=-I/home/runner/work/obs-deps/obs-deps/linux-x86_64/obs-ffmpeg-x86_64/include --host-ldflags=-I/home/runner/work/obs-deps/obs-deps/linux-x86_64/obs-ffmpeg-x86_64/include --extra-cflags='-I/home/runner/work/obs-deps/obs-deps/linux-x86_64/obs-ffmpeg-x86_64/include -w -pipe -fPIC -O3 -DNDEBUG' --extra-cxxflags='-I/home/runner/work/obs-deps/obs-deps/linux-x86_64/obs-ffmpeg-x86_64/include -w -pipe -fPIC -O3 -DNDEBUG' --extra-ldflags=-L/home/runner/work/obs-deps/obs-deps/linux-x86_64/obs-ffmpeg-x86_64/lib --enable-version3 --enable-gpl --enable-libx264 --enable-libopus --enable-libvorbis --enable-libvpx --enable-librist --enable-libsrt --enable-shared --disable-static --disable-libjack --disable-indev=jack --disable-outdev=sdl --disable-doc --disable-postproc --pkg-config-flags=--static\n  swscale     configuration: --arch=x86_64 --enable-libaom --enable-libsvtav1 --enable-libtheora --enable-libmp3lame --enable-pthreads --extra-libs='-lpthread -lm' --cc=clang --cxx=clang++ --host-cc=clang --prefix=/home/runner/work/obs-deps/obs-deps/linux-x86_64/obs-ffmpeg-x86_64 --host-cflags=-I/home/runner/work/obs-deps/obs-deps/linux-x86_64/obs-ffmpeg-x86_64/include --host-ldflags=-I/home/runner/work/obs-deps/obs-deps/linux-x86_64/obs-ffmpeg-x86_64/include --extra-cflags='-I/home/runner/work/obs-deps/obs-deps/linux-x86_64/obs-ffmpeg-x86_64/include -w -pipe -fPIC -O3 -DNDEBUG' --extra-cxxflags='-I/home/runner/work/obs-deps/obs-deps/linux-x86_64/obs-ffmpeg-x86_64/include -w -pipe -fPIC -O3 -DNDEBUG' --extra-ldflags=-L/home/runner/work/obs-deps/obs-deps/linux-x86_64/obs-ffmpeg-x86_64/lib --enable-version3 --enable-gpl --enable-libx264 --enable-libopus --enable-libvorbis --enable-libvpx --enable-librist --enable-libsrt --enable-shared --disable-static --disable-libjack --disable-indev=jack --disable-outdev=sdl --disable-doc --disable-postproc --pkg-config-flags=--static\n  swresample  configuration: --arch=x86_64 --enable-libaom --enable-libsvtav1 --enable-libtheora --enable-libmp3lame --enable-pthreads --extra-libs='-lpthread -lm' --cc=clang --cxx=clang++ --host-cc=clang --prefix=/home/runner/work/obs-deps/obs-deps/linux-x86_64/obs-ffmpeg-x86_64 --host-cflags=-I/home/runner/work/obs-deps/obs-deps/linux-x86_64/obs-ffmpeg-x86_64/include --host-ldflags=-I/home/runner/work/obs-deps/obs-deps/linux-x86_64/obs-ffmpeg-x86_64/include --extra-cflags='-I/home/runner/work/obs-deps/obs-deps/linux-x86_64/obs-ffmpeg-x86_64/include -w -pipe -fPIC -O3 -DNDEBUG' --extra-cxxflags='-I/home/runner/work/obs-deps/obs-deps/linux-x86_64/obs-ffmpeg-x86_64/include -w -pipe -fPIC -O3 -DNDEBUG' --extra-ldflags=-L/home/runner/work/obs-deps/obs-deps/linux-x86_64/obs-ffmpeg-x86_64/lib --enable-version3 --enable-gpl --enable-libx264 --enable-libopus --enable-libvorbis --enable-libvpx --enable-librist --enable-libsrt --enable-shared --disable-static --disable-libjack --disable-indev=jack --disable-outdev=sdl --disable-doc --disable-postproc --pkg-config-flags=--static\n  libavutil      56. 70.100 / 56. 70.100\n  libavcodec     58.134.100 / 58.134.100\n  libavformat    58. 76.100 / 58. 76.100\n  libavdevice    58. 13.100 / 58. 13.100\n  libavfilter     7.110.100 /  7.110.100\n  libswscale      5.  9.100 /  5.  9.100\n  libswresample   3.  9.100 /  3.  9.100\n  libpostproc    55.  9.100 / 55.  9.100\n[wav @ 0x598c12c16800] invalid start code 7[6][0][0] in RIFF header\n/home/lisamenezes/Searches/Du-Cauli/audio.wav: Invalid data found when processing input\n"
     ]
    }
   ],
   "source": [
    "from pydub import AudioSegment\n",
    "from pydub.playback import play\n",
    "\n",
    "# Carregar o arquivo .m4a\n",
    "audio = AudioSegment.from_file(\"/home/lisamenezes/Searches/Du-Cauli/audio.wav\", format=\"wav\")\n",
    "\n",
    "# Reproduzir o áudio\n",
    "play(audio)\n"
   ]
  },
  {
   "cell_type": "code",
   "execution_count": 2,
   "metadata": {},
   "outputs": [
    {
     "name": "stdout",
     "output_type": "stream",
     "text": [
      "ID 61 do lote 2, altura 7,1, diâmetro 0,81. ID 62, lote 2, altura 7,8, diâmetro 0,96. ID 63 do lote 2, altura 7,0, diâmetro 0,56. Sous-titres réalisés para la communauté d'Amara.org\n"
     ]
    }
   ],
   "source": [
    "import openai\n",
    "from dotenv import load_dotenv\n",
    "import os\n",
    "\n",
    "# Carregar a chave de API do arquivo .env\n",
    "load_dotenv()\n",
    "openai.api_key = os.getenv(\"OPENAI_API_KEY\")\n",
    "\n",
    "# Caminho para o arquivo de áudio\n",
    "caminho_audio = \"../data/IoT 2.m4a\"\n",
    "\n",
    "# Abrir o arquivo de áudio\n",
    "with open(caminho_audio, \"rb\") as audio_file:\n",
    "    # Realizar a transcrição utilizando a API da OpenAI\n",
    "    transcricao = openai.Audio.transcribe(\n",
    "        model=\"whisper-1\",\n",
    "        file=audio_file\n",
    "    )\n",
    "\n",
    "# Exibir a transcrição\n",
    "print(transcricao[\"text\"])\n"
   ]
  },
  {
   "cell_type": "code",
   "execution_count": 3,
   "metadata": {},
   "outputs": [],
   "source": [
    "transcricao_texto = transcricao[\"text\"]\n"
   ]
  },
  {
   "cell_type": "code",
   "execution_count": 4,
   "metadata": {},
   "outputs": [
    {
     "name": "stdout",
     "output_type": "stream",
     "text": [
      "Planilha salva como ../data/dados_transcritos.csv\n"
     ]
    }
   ],
   "source": [
    "import pandas as pd\n",
    "import re\n",
    "\n",
    "# Expressão regular para capturar os valores\n",
    "padrao = r\"ID (\\d+).*?lote (\\d+).*?altura ([\\d,]+).*?diâmetro ([\\d,]+)\"\n",
    "\n",
    "# Encontrar todos os correspondentes no texto\n",
    "dados = re.findall(padrao, transcricao_texto)\n",
    "\n",
    "# Substituir vírgulas por pontos para números decimais\n",
    "dados_corrigidos = [(id_, lote, altura.replace(',', '.'), diametro.replace(',', '.')) for id_, lote, altura, diametro in dados]\n",
    "\n",
    "# Criar o DataFrame\n",
    "df = pd.DataFrame(dados_corrigidos, columns=[\"ID\", \"LOTE\", \"ALTURA\", \"DIAMETRO\"])\n",
    "\n",
    "# Salvar o DataFrame em um arquivo Excel\n",
    "arquivo = \"../data/dados_transcritos.csv\"\n",
    "df.to_csv(arquivo, index=False)\n",
    "\n",
    "print(f\"Planilha salva como {arquivo}\")\n"
   ]
  }
 ],
 "metadata": {
  "kernelspec": {
   "display_name": "basic",
   "language": "python",
   "name": "python3"
  },
  "language_info": {
   "codemirror_mode": {
    "name": "ipython",
    "version": 3
   },
   "file_extension": ".py",
   "mimetype": "text/x-python",
   "name": "python",
   "nbconvert_exporter": "python",
   "pygments_lexer": "ipython3",
   "version": "3.9.18"
  }
 },
 "nbformat": 4,
 "nbformat_minor": 2
}
